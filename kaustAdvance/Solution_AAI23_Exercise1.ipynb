{
  "nbformat": 4,
  "nbformat_minor": 0,
  "metadata": {
    "colab": {
      "provenance": []
    },
    "kernelspec": {
      "name": "python3",
      "display_name": "Python 3"
    },
    "language_info": {
      "name": "python"
    },
    "accelerator": "GPU",
    "gpuClass": "standard",
    "widgets": {
      "application/vnd.jupyter.widget-state+json": {
        "91e38b7049974554936d7b2a65feb767": {
          "model_module": "@jupyter-widgets/controls",
          "model_name": "HBoxModel",
          "model_module_version": "1.5.0",
          "state": {
            "_dom_classes": [],
            "_model_module": "@jupyter-widgets/controls",
            "_model_module_version": "1.5.0",
            "_model_name": "HBoxModel",
            "_view_count": null,
            "_view_module": "@jupyter-widgets/controls",
            "_view_module_version": "1.5.0",
            "_view_name": "HBoxView",
            "box_style": "",
            "children": [
              "IPY_MODEL_76fe487d29134f488ee57208698a6d4f",
              "IPY_MODEL_34c89ea867d24bb58b7ba21edb3c3609",
              "IPY_MODEL_9ee44c2b51264e72ac15647a1c78db8d"
            ],
            "layout": "IPY_MODEL_37824c6984c94edca48bf42aed8dc9ad"
          }
        },
        "76fe487d29134f488ee57208698a6d4f": {
          "model_module": "@jupyter-widgets/controls",
          "model_name": "HTMLModel",
          "model_module_version": "1.5.0",
          "state": {
            "_dom_classes": [],
            "_model_module": "@jupyter-widgets/controls",
            "_model_module_version": "1.5.0",
            "_model_name": "HTMLModel",
            "_view_count": null,
            "_view_module": "@jupyter-widgets/controls",
            "_view_module_version": "1.5.0",
            "_view_name": "HTMLView",
            "description": "",
            "description_tooltip": null,
            "layout": "IPY_MODEL_c7e41c11d5f04e118beec70ccdd4bf08",
            "placeholder": "​",
            "style": "IPY_MODEL_74b1d9d4dacd40fe92cd0ef8c5126e3e",
            "value": "100%"
          }
        },
        "34c89ea867d24bb58b7ba21edb3c3609": {
          "model_module": "@jupyter-widgets/controls",
          "model_name": "FloatProgressModel",
          "model_module_version": "1.5.0",
          "state": {
            "_dom_classes": [],
            "_model_module": "@jupyter-widgets/controls",
            "_model_module_version": "1.5.0",
            "_model_name": "FloatProgressModel",
            "_view_count": null,
            "_view_module": "@jupyter-widgets/controls",
            "_view_module_version": "1.5.0",
            "_view_name": "ProgressView",
            "bar_style": "success",
            "description": "",
            "description_tooltip": null,
            "layout": "IPY_MODEL_3c25baef1f974ce99d42b8f18a8a449f",
            "max": 46830571,
            "min": 0,
            "orientation": "horizontal",
            "style": "IPY_MODEL_88a31200070345f48a5d92ac6d6e8b8e",
            "value": 46830571
          }
        },
        "9ee44c2b51264e72ac15647a1c78db8d": {
          "model_module": "@jupyter-widgets/controls",
          "model_name": "HTMLModel",
          "model_module_version": "1.5.0",
          "state": {
            "_dom_classes": [],
            "_model_module": "@jupyter-widgets/controls",
            "_model_module_version": "1.5.0",
            "_model_name": "HTMLModel",
            "_view_count": null,
            "_view_module": "@jupyter-widgets/controls",
            "_view_module_version": "1.5.0",
            "_view_name": "HTMLView",
            "description": "",
            "description_tooltip": null,
            "layout": "IPY_MODEL_8f7063cd35314f9cb07542930fc24274",
            "placeholder": "​",
            "style": "IPY_MODEL_f3d76c6dc3a245ae98fc5b99e453e5f5",
            "value": " 44.7M/44.7M [00:00&lt;00:00, 149MB/s]"
          }
        },
        "37824c6984c94edca48bf42aed8dc9ad": {
          "model_module": "@jupyter-widgets/base",
          "model_name": "LayoutModel",
          "model_module_version": "1.2.0",
          "state": {
            "_model_module": "@jupyter-widgets/base",
            "_model_module_version": "1.2.0",
            "_model_name": "LayoutModel",
            "_view_count": null,
            "_view_module": "@jupyter-widgets/base",
            "_view_module_version": "1.2.0",
            "_view_name": "LayoutView",
            "align_content": null,
            "align_items": null,
            "align_self": null,
            "border": null,
            "bottom": null,
            "display": null,
            "flex": null,
            "flex_flow": null,
            "grid_area": null,
            "grid_auto_columns": null,
            "grid_auto_flow": null,
            "grid_auto_rows": null,
            "grid_column": null,
            "grid_gap": null,
            "grid_row": null,
            "grid_template_areas": null,
            "grid_template_columns": null,
            "grid_template_rows": null,
            "height": null,
            "justify_content": null,
            "justify_items": null,
            "left": null,
            "margin": null,
            "max_height": null,
            "max_width": null,
            "min_height": null,
            "min_width": null,
            "object_fit": null,
            "object_position": null,
            "order": null,
            "overflow": null,
            "overflow_x": null,
            "overflow_y": null,
            "padding": null,
            "right": null,
            "top": null,
            "visibility": null,
            "width": null
          }
        },
        "c7e41c11d5f04e118beec70ccdd4bf08": {
          "model_module": "@jupyter-widgets/base",
          "model_name": "LayoutModel",
          "model_module_version": "1.2.0",
          "state": {
            "_model_module": "@jupyter-widgets/base",
            "_model_module_version": "1.2.0",
            "_model_name": "LayoutModel",
            "_view_count": null,
            "_view_module": "@jupyter-widgets/base",
            "_view_module_version": "1.2.0",
            "_view_name": "LayoutView",
            "align_content": null,
            "align_items": null,
            "align_self": null,
            "border": null,
            "bottom": null,
            "display": null,
            "flex": null,
            "flex_flow": null,
            "grid_area": null,
            "grid_auto_columns": null,
            "grid_auto_flow": null,
            "grid_auto_rows": null,
            "grid_column": null,
            "grid_gap": null,
            "grid_row": null,
            "grid_template_areas": null,
            "grid_template_columns": null,
            "grid_template_rows": null,
            "height": null,
            "justify_content": null,
            "justify_items": null,
            "left": null,
            "margin": null,
            "max_height": null,
            "max_width": null,
            "min_height": null,
            "min_width": null,
            "object_fit": null,
            "object_position": null,
            "order": null,
            "overflow": null,
            "overflow_x": null,
            "overflow_y": null,
            "padding": null,
            "right": null,
            "top": null,
            "visibility": null,
            "width": null
          }
        },
        "74b1d9d4dacd40fe92cd0ef8c5126e3e": {
          "model_module": "@jupyter-widgets/controls",
          "model_name": "DescriptionStyleModel",
          "model_module_version": "1.5.0",
          "state": {
            "_model_module": "@jupyter-widgets/controls",
            "_model_module_version": "1.5.0",
            "_model_name": "DescriptionStyleModel",
            "_view_count": null,
            "_view_module": "@jupyter-widgets/base",
            "_view_module_version": "1.2.0",
            "_view_name": "StyleView",
            "description_width": ""
          }
        },
        "3c25baef1f974ce99d42b8f18a8a449f": {
          "model_module": "@jupyter-widgets/base",
          "model_name": "LayoutModel",
          "model_module_version": "1.2.0",
          "state": {
            "_model_module": "@jupyter-widgets/base",
            "_model_module_version": "1.2.0",
            "_model_name": "LayoutModel",
            "_view_count": null,
            "_view_module": "@jupyter-widgets/base",
            "_view_module_version": "1.2.0",
            "_view_name": "LayoutView",
            "align_content": null,
            "align_items": null,
            "align_self": null,
            "border": null,
            "bottom": null,
            "display": null,
            "flex": null,
            "flex_flow": null,
            "grid_area": null,
            "grid_auto_columns": null,
            "grid_auto_flow": null,
            "grid_auto_rows": null,
            "grid_column": null,
            "grid_gap": null,
            "grid_row": null,
            "grid_template_areas": null,
            "grid_template_columns": null,
            "grid_template_rows": null,
            "height": null,
            "justify_content": null,
            "justify_items": null,
            "left": null,
            "margin": null,
            "max_height": null,
            "max_width": null,
            "min_height": null,
            "min_width": null,
            "object_fit": null,
            "object_position": null,
            "order": null,
            "overflow": null,
            "overflow_x": null,
            "overflow_y": null,
            "padding": null,
            "right": null,
            "top": null,
            "visibility": null,
            "width": null
          }
        },
        "88a31200070345f48a5d92ac6d6e8b8e": {
          "model_module": "@jupyter-widgets/controls",
          "model_name": "ProgressStyleModel",
          "model_module_version": "1.5.0",
          "state": {
            "_model_module": "@jupyter-widgets/controls",
            "_model_module_version": "1.5.0",
            "_model_name": "ProgressStyleModel",
            "_view_count": null,
            "_view_module": "@jupyter-widgets/base",
            "_view_module_version": "1.2.0",
            "_view_name": "StyleView",
            "bar_color": null,
            "description_width": ""
          }
        },
        "8f7063cd35314f9cb07542930fc24274": {
          "model_module": "@jupyter-widgets/base",
          "model_name": "LayoutModel",
          "model_module_version": "1.2.0",
          "state": {
            "_model_module": "@jupyter-widgets/base",
            "_model_module_version": "1.2.0",
            "_model_name": "LayoutModel",
            "_view_count": null,
            "_view_module": "@jupyter-widgets/base",
            "_view_module_version": "1.2.0",
            "_view_name": "LayoutView",
            "align_content": null,
            "align_items": null,
            "align_self": null,
            "border": null,
            "bottom": null,
            "display": null,
            "flex": null,
            "flex_flow": null,
            "grid_area": null,
            "grid_auto_columns": null,
            "grid_auto_flow": null,
            "grid_auto_rows": null,
            "grid_column": null,
            "grid_gap": null,
            "grid_row": null,
            "grid_template_areas": null,
            "grid_template_columns": null,
            "grid_template_rows": null,
            "height": null,
            "justify_content": null,
            "justify_items": null,
            "left": null,
            "margin": null,
            "max_height": null,
            "max_width": null,
            "min_height": null,
            "min_width": null,
            "object_fit": null,
            "object_position": null,
            "order": null,
            "overflow": null,
            "overflow_x": null,
            "overflow_y": null,
            "padding": null,
            "right": null,
            "top": null,
            "visibility": null,
            "width": null
          }
        },
        "f3d76c6dc3a245ae98fc5b99e453e5f5": {
          "model_module": "@jupyter-widgets/controls",
          "model_name": "DescriptionStyleModel",
          "model_module_version": "1.5.0",
          "state": {
            "_model_module": "@jupyter-widgets/controls",
            "_model_module_version": "1.5.0",
            "_model_name": "DescriptionStyleModel",
            "_view_count": null,
            "_view_module": "@jupyter-widgets/base",
            "_view_module_version": "1.2.0",
            "_view_name": "StyleView",
            "description_width": ""
          }
        }
      }
    }
  },
  "cells": [
    {
      "cell_type": "markdown",
      "source": [
        "#Exercise 1: Train a classifer to predict the output lable of data in test.csv file.\n",
        "\n",
        "\n",
        "\n",
        "\n",
        "1.   Write DataLoaders\n",
        "2.   Train DNN\n",
        "3.   plot loss values\n",
        "4.   Show a few samples of the train and test set\n",
        "5.   provide the labels of the test_set in a file labelled Submission.csv. Submission.cvs should have a column called labels which should contain the labels of all the images\n",
        "\n",
        "\n",
        "\n",
        "\n",
        "Note: The unpickle code will produce a dict (which have images and labels etc)\n",
        "\n",
        "\n",
        "Take special care of reading images and make sure the images are indeed correct. You will have to plot the image to see it.\n",
        "\n",
        "The images have dimensions: (32,32,3)"
      ],
      "metadata": {
        "id": "mVCQ7LMdOzkW"
      }
    },
    {
      "cell_type": "code",
      "source": [
        "!wget -O data.zip https://www.dropbox.com/s/bcrs90kyytjph42/cifar-10-batches-py.zip?dl=0\n",
        "!unzip data.zip"
      ],
      "metadata": {
        "id": "wy3xxqGq5aHc",
        "colab": {
          "base_uri": "https://localhost:8080/"
        },
        "outputId": "000057ca-5fc4-4c6b-d608-ab1e38ae8c4c"
      },
      "execution_count": null,
      "outputs": [
        {
          "output_type": "stream",
          "name": "stdout",
          "text": [
            "--2023-01-19 08:13:07--  https://www.dropbox.com/s/bcrs90kyytjph42/cifar-10-batches-py.zip?dl=0\n",
            "Resolving www.dropbox.com (www.dropbox.com)... 162.125.65.18, 2620:100:6021:18::a27d:4112\n",
            "Connecting to www.dropbox.com (www.dropbox.com)|162.125.65.18|:443... connected.\n",
            "HTTP request sent, awaiting response... 302 Found\n",
            "Location: /s/raw/bcrs90kyytjph42/cifar-10-batches-py.zip [following]\n",
            "--2023-01-19 08:13:07--  https://www.dropbox.com/s/raw/bcrs90kyytjph42/cifar-10-batches-py.zip\n",
            "Reusing existing connection to www.dropbox.com:443.\n",
            "HTTP request sent, awaiting response... 302 Found\n",
            "Location: https://uca50fba61ffb838ae6b7d0de2fa.dl-eu.dropboxusercontent.com/cd/0/inline/B01KesQ2QXiRvxD24rWkJPGxhFCZVIP1NuQfxtvMoFQQDpuWW_opP2OuxXLacH60qc5JteN24vdr8yxzONRLRvvHVjuJ_Qu0iELDy6A_CjMdc8ZpMH7tbhadEBjn2MArb4mramQumt1U-DirD1nqvByrh4HrcPVYGrxqppyig10uZA/file# [following]\n",
            "--2023-01-19 08:13:07--  https://uca50fba61ffb838ae6b7d0de2fa.dl-eu.dropboxusercontent.com/cd/0/inline/B01KesQ2QXiRvxD24rWkJPGxhFCZVIP1NuQfxtvMoFQQDpuWW_opP2OuxXLacH60qc5JteN24vdr8yxzONRLRvvHVjuJ_Qu0iELDy6A_CjMdc8ZpMH7tbhadEBjn2MArb4mramQumt1U-DirD1nqvByrh4HrcPVYGrxqppyig10uZA/file\n",
            "Resolving uca50fba61ffb838ae6b7d0de2fa.dl-eu.dropboxusercontent.com (uca50fba61ffb838ae6b7d0de2fa.dl-eu.dropboxusercontent.com)... 162.125.2.15, 2620:100:6021:15::a27d:410f\n",
            "Connecting to uca50fba61ffb838ae6b7d0de2fa.dl-eu.dropboxusercontent.com (uca50fba61ffb838ae6b7d0de2fa.dl-eu.dropboxusercontent.com)|162.125.2.15|:443... connected.\n",
            "HTTP request sent, awaiting response... 302 Found\n",
            "Location: /cd/0/inline2/B00BbYvWEvvRnTSVcI33lfLHiZi6Hz3ifQZSzJ3Y8nEjCK88Rd0JVn1X4BlRKN3VEMxOslkt4H7loBVLztv0f71jHJyQGFvQXXxYtsTOR6ZNAV2tnwbjn4P5b1iepJHuw_a4zXjB71r5Lo9ZTp2QuYTfxdG3eNJXofvsQMAJRlU--jer4vykMkBORidf-7ZMfl-6wVwXjK5OhRQw37YfkS8pfoUH9NeWh7_Rs_PDgPnJRaMSntPEBazIz9dU8FtstDCM_cW_HxppzNuRAlMX6cmQrROaZYPc3WjRNw8NDDPuvftu2SYhgpwSqKSD71JbKgXw-qyVn4h-k860WOgR_4HyxxLd9G7hQJisUwpAPzzra9Ck23Ja4oMpB13h4ih7CDa7xqvK_OmjFkrvHwdDq-eEFBJVQyRclvUbsah1cCOs7g/file [following]\n",
            "--2023-01-19 08:13:09--  https://uca50fba61ffb838ae6b7d0de2fa.dl-eu.dropboxusercontent.com/cd/0/inline2/B00BbYvWEvvRnTSVcI33lfLHiZi6Hz3ifQZSzJ3Y8nEjCK88Rd0JVn1X4BlRKN3VEMxOslkt4H7loBVLztv0f71jHJyQGFvQXXxYtsTOR6ZNAV2tnwbjn4P5b1iepJHuw_a4zXjB71r5Lo9ZTp2QuYTfxdG3eNJXofvsQMAJRlU--jer4vykMkBORidf-7ZMfl-6wVwXjK5OhRQw37YfkS8pfoUH9NeWh7_Rs_PDgPnJRaMSntPEBazIz9dU8FtstDCM_cW_HxppzNuRAlMX6cmQrROaZYPc3WjRNw8NDDPuvftu2SYhgpwSqKSD71JbKgXw-qyVn4h-k860WOgR_4HyxxLd9G7hQJisUwpAPzzra9Ck23Ja4oMpB13h4ih7CDa7xqvK_OmjFkrvHwdDq-eEFBJVQyRclvUbsah1cCOs7g/file\n",
            "Reusing existing connection to uca50fba61ffb838ae6b7d0de2fa.dl-eu.dropboxusercontent.com:443.\n",
            "HTTP request sent, awaiting response... 200 OK\n",
            "Length: 176410579 (168M) [application/zip]\n",
            "Saving to: ‘data.zip’\n",
            "\n",
            "data.zip            100%[===================>] 168.24M  18.7MB/s    in 10s     \n",
            "\n",
            "2023-01-19 08:13:21 (16.8 MB/s) - ‘data.zip’ saved [176410579/176410579]\n",
            "\n",
            "Archive:  data.zip\n",
            "   creating: cifar-10-batches-py/\n",
            "  inflating: __MACOSX/._cifar-10-batches-py  \n",
            "  inflating: cifar-10-batches-py/data_batch_1  \n",
            "  inflating: __MACOSX/cifar-10-batches-py/._data_batch_1  \n",
            "  inflating: cifar-10-batches-py/.DS_Store  \n",
            "  inflating: __MACOSX/cifar-10-batches-py/._.DS_Store  \n",
            "  inflating: cifar-10-batches-py/test.csv  \n",
            "  inflating: __MACOSX/cifar-10-batches-py/._test.csv  \n",
            "  inflating: cifar-10-batches-py/readme.html  \n",
            "  inflating: __MACOSX/cifar-10-batches-py/._readme.html  \n",
            "  inflating: cifar-10-batches-py/batches.meta  \n",
            "  inflating: __MACOSX/cifar-10-batches-py/._batches.meta  \n",
            "  inflating: cifar-10-batches-py/data_batch_2  \n",
            "  inflating: __MACOSX/cifar-10-batches-py/._data_batch_2  \n",
            "  inflating: cifar-10-batches-py/data_batch_5  \n",
            "  inflating: __MACOSX/cifar-10-batches-py/._data_batch_5  \n",
            "  inflating: cifar-10-batches-py/data_batch_4  \n",
            "  inflating: __MACOSX/cifar-10-batches-py/._data_batch_4  \n",
            "  inflating: cifar-10-batches-py/data_batch_3  \n",
            "  inflating: __MACOSX/cifar-10-batches-py/._data_batch_3  \n"
          ]
        }
      ]
    },
    {
      "cell_type": "code",
      "execution_count": null,
      "metadata": {
        "id": "MiaY0oWS44JT"
      },
      "outputs": [],
      "source": [
        "#Notice that train data has 5 batches. below code can be used\n",
        "#to read the train data\n",
        "def unpickle(file):\n",
        "    import pickle\n",
        "    with open(file, 'rb') as fo:\n",
        "        dict = pickle.load(fo, encoding='bytes')\n",
        "    return dict"
      ]
    },
    {
      "cell_type": "code",
      "source": [
        "!ls cifar-10-batches-py/"
      ],
      "metadata": {
        "colab": {
          "base_uri": "https://localhost:8080/"
        },
        "id": "_nakj9mt-ely",
        "outputId": "e337cb6e-d4a5-4235-fbd1-77b329c0d398"
      },
      "execution_count": null,
      "outputs": [
        {
          "output_type": "stream",
          "name": "stdout",
          "text": [
            "batches.meta  data_batch_2  data_batch_4  readme.html\n",
            "data_batch_1  data_batch_3  data_batch_5  test.csv\n"
          ]
        }
      ]
    },
    {
      "cell_type": "code",
      "source": [
        "import numpy as np\n",
        "import torch\n",
        "import torchvision.transforms as transforms\n",
        "from torch.utils.data import Dataset, DataLoader\n",
        "import torch.nn as nn\n",
        "import torch.nn.functional as F\n",
        "from torchvision.models import resnet18\n",
        "import torch.optim as optim\n",
        "import matplotlib.pyplot as plt\n"
      ],
      "metadata": {
        "id": "i-g5o_6W_bfR"
      },
      "execution_count": null,
      "outputs": []
    },
    {
      "cell_type": "code",
      "source": [
        "data1 = unpickle(\"cifar-10-batches-py/data_batch_1\")\n",
        "ims1 = data1[b\"data\"]\n",
        "labels1 = data1[b\"labels\"]\n",
        "\n",
        "data2 = unpickle(\"cifar-10-batches-py/data_batch_2\")\n",
        "ims2 = data2[b\"data\"]\n",
        "labels2 = data2[b\"labels\"]\n",
        "\n",
        "data3 = unpickle(\"cifar-10-batches-py/data_batch_3\")\n",
        "ims3 = data3[b\"data\"]\n",
        "labels3 = data3[b\"labels\"]\n",
        "\n",
        "data4 = unpickle(\"cifar-10-batches-py/data_batch_4\")\n",
        "ims4 = data4[b\"data\"]\n",
        "labels4 = data4[b\"labels\"]\n",
        "\n",
        "data5 = unpickle(\"cifar-10-batches-py/data_batch_5\")\n",
        "ims5 = data5[b\"data\"]\n",
        "labels5 = data5[b\"labels\"]"
      ],
      "metadata": {
        "id": "rQMgnWU9-geZ"
      },
      "execution_count": null,
      "outputs": []
    },
    {
      "cell_type": "code",
      "source": [
        "images = np.concatenate([ims1,ims2, ims3, ims4, ims5], axis =0)\n",
        "labels = np.concatenate([labels1, labels2, labels3, labels4, labels5], axis =0)"
      ],
      "metadata": {
        "id": "g1_ljUCk_P4K"
      },
      "execution_count": null,
      "outputs": []
    },
    {
      "cell_type": "code",
      "source": [
        "labels.shape"
      ],
      "metadata": {
        "colab": {
          "base_uri": "https://localhost:8080/"
        },
        "id": "rCRFOYpW_CIa",
        "outputId": "25aee508-40c1-4b83-a4ec-87f0a5203555"
      },
      "execution_count": null,
      "outputs": [
        {
          "output_type": "execute_result",
          "data": {
            "text/plain": [
              "(50000,)"
            ]
          },
          "metadata": {},
          "execution_count": 11
        }
      ]
    },
    {
      "cell_type": "code",
      "source": [
        "class MyDataset(Dataset):\n",
        "  def __init__(self, data, labels):\n",
        "    super().__init__()\n",
        "    self.data = data\n",
        "    self.labels = labels\n",
        "\n",
        "\n",
        "  def __len__(self):\n",
        "    return self.data.shape[0]\n",
        "\n",
        "  def __getitem__(self, idx):\n",
        "    im = self.data[idx, :]\n",
        "    im = torch.from_numpy(np.reshape(im, (3,32,32))/255).type(torch.FloatTensor)\n",
        "                                                      \n",
        "\n",
        "    return (im,self.labels[idx])\n",
        "    "
      ],
      "metadata": {
        "id": "Ev08_sw0_wZE"
      },
      "execution_count": null,
      "outputs": []
    },
    {
      "cell_type": "code",
      "source": [
        "dataset = MyDataset(images, labels)"
      ],
      "metadata": {
        "id": "potZwKHRDr_Z"
      },
      "execution_count": null,
      "outputs": []
    },
    {
      "cell_type": "code",
      "source": [
        "train_loader = DataLoader(dataset, batch_size = 64, shuffle = True)"
      ],
      "metadata": {
        "id": "DCWVUASWDxoR"
      },
      "execution_count": null,
      "outputs": []
    },
    {
      "cell_type": "code",
      "source": [
        "net = resnet18(pretrained = True)\n",
        "net.fc = nn.Linear(in_features=512, out_features=10, bias=True)"
      ],
      "metadata": {
        "colab": {
          "base_uri": "https://localhost:8080/",
          "height": 156,
          "referenced_widgets": [
            "91e38b7049974554936d7b2a65feb767",
            "76fe487d29134f488ee57208698a6d4f",
            "34c89ea867d24bb58b7ba21edb3c3609",
            "9ee44c2b51264e72ac15647a1c78db8d",
            "37824c6984c94edca48bf42aed8dc9ad",
            "c7e41c11d5f04e118beec70ccdd4bf08",
            "74b1d9d4dacd40fe92cd0ef8c5126e3e",
            "3c25baef1f974ce99d42b8f18a8a449f",
            "88a31200070345f48a5d92ac6d6e8b8e",
            "8f7063cd35314f9cb07542930fc24274",
            "f3d76c6dc3a245ae98fc5b99e453e5f5"
          ]
        },
        "id": "rL-qSRfGDycT",
        "outputId": "b1a19a98-3ecf-497e-e765-89963206a01d"
      },
      "execution_count": null,
      "outputs": [
        {
          "output_type": "stream",
          "name": "stderr",
          "text": [
            "/usr/local/lib/python3.8/dist-packages/torchvision/models/_utils.py:208: UserWarning: The parameter 'pretrained' is deprecated since 0.13 and may be removed in the future, please use 'weights' instead.\n",
            "  warnings.warn(\n",
            "/usr/local/lib/python3.8/dist-packages/torchvision/models/_utils.py:223: UserWarning: Arguments other than a weight enum or `None` for 'weights' are deprecated since 0.13 and may be removed in the future. The current behavior is equivalent to passing `weights=ResNet18_Weights.IMAGENET1K_V1`. You can also use `weights=ResNet18_Weights.DEFAULT` to get the most up-to-date weights.\n",
            "  warnings.warn(msg)\n",
            "Downloading: \"https://download.pytorch.org/models/resnet18-f37072fd.pth\" to /root/.cache/torch/hub/checkpoints/resnet18-f37072fd.pth\n"
          ]
        },
        {
          "output_type": "display_data",
          "data": {
            "text/plain": [
              "  0%|          | 0.00/44.7M [00:00<?, ?B/s]"
            ],
            "application/vnd.jupyter.widget-view+json": {
              "version_major": 2,
              "version_minor": 0,
              "model_id": "91e38b7049974554936d7b2a65feb767"
            }
          },
          "metadata": {}
        }
      ]
    },
    {
      "cell_type": "code",
      "source": [
        "device = torch.device(\"cuda:0\")\n",
        "num_epochs = 10\n",
        "lr = 1e-4\n",
        "\n",
        "net = net.to(device)\n",
        "opt = optim.Adam(net.parameters(), lr = lr)\n",
        "ls = []\n",
        "for i in range(num_epochs):\n",
        "  total_loss = 0\n",
        "  for batch in train_loader:\n",
        "    X,y = batch[0].to(device), batch[1].to(device)\n",
        "    logits = net(X)\n",
        "    loss = F.cross_entropy(logits, y)\n",
        "    opt.zero_grad()\n",
        "    loss.backward()\n",
        "    opt.step()\n",
        "    total_loss+=loss.item()\n",
        "  ls.append(total_loss)\n",
        "\n",
        "\n",
        "plt.plot(ls)\n",
        "\n"
      ],
      "metadata": {
        "id": "mA-pDLQwEcJy"
      },
      "execution_count": null,
      "outputs": []
    },
    {
      "cell_type": "code",
      "source": [
        "loss"
      ],
      "metadata": {
        "colab": {
          "base_uri": "https://localhost:8080/"
        },
        "id": "estBQWshEcGy",
        "outputId": "2d980aae-1189-436e-9a33-cea8cf1501a0"
      },
      "execution_count": null,
      "outputs": [
        {
          "output_type": "execute_result",
          "data": {
            "text/plain": [
              "tensor(2.6096, device='cuda:0', grad_fn=<NllLossBackward0>)"
            ]
          },
          "metadata": {},
          "execution_count": 17
        }
      ]
    },
    {
      "cell_type": "code",
      "source": [],
      "metadata": {
        "id": "uPEVwxQ4F4OW"
      },
      "execution_count": null,
      "outputs": []
    }
  ]
}