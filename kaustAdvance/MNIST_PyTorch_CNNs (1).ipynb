{
  "nbformat": 4,
  "nbformat_minor": 0,
  "metadata": {
    "colab": {
      "provenance": []
    },
    "kernelspec": {
      "name": "python3",
      "display_name": "Python 3"
    },
    "language_info": {
      "name": "python"
    },
    "accelerator": "GPU"
  },
  "cells": [
    {
      "cell_type": "markdown",
      "source": [
        "In this notebook, we will implement a Convoulutional Neural Network (CNN) using pytorch for MNIST Classification."
      ],
      "metadata": {
        "id": "4Eo1RFp4AmuA"
      }
    },
    {
      "cell_type": "markdown",
      "source": [
        "Expectations: Please provide solutions to the questions in the cells at the end of the notebook."
      ],
      "metadata": {
        "id": "_-O8HVTpkbZm"
      }
    },
    {
      "cell_type": "code",
      "execution_count": 1,
      "metadata": {
        "id": "Vqg8SEXq55vV"
      },
      "outputs": [],
      "source": [
        "import torch\n",
        "import torch.nn as nn\n",
        "import torch.nn.functional as F\n",
        "import torch.optim as optim\n",
        "import numpy as np\n",
        "import matplotlib.pyplot as plt\n",
        "from torchvision import models,transforms\n",
        "from torchvision.utils import make_grid\n",
        "from torchvision.datasets import MNIST\n",
        "from torch.utils.data.sampler import SubsetRandomSampler\n",
        "from torch.utils.tensorboard import SummaryWriter\n",
        "from torchsummary import summary\n",
        "from torch.utils.data import Dataset, DataLoader"
      ]
    },
    {
      "cell_type": "markdown",
      "source": [
        "We will be using MNIST Disgits datasets. The MNIST Digits dataset consists of 70000 28x28 grayscale images of digits from 0 to 9, with 6000 images per class. There are 60000 training images and 10000 test images. <br>\n",
        "\n",
        "Following are the some random samples from the dataset.\n",
        "\n",
        "![MNIST Samples](https://www.yunzhew.com/project/mnist-digit-net/featured_hudee2c27f78ea2485e0d3aa44abbfc53c_218555_720x2500_fit_q75_h2_lanczos_3.webp)"
      ],
      "metadata": {
        "id": "dSlDpJqVBLoL"
      }
    },
    {
      "cell_type": "markdown",
      "source": [
        "We will use pytorch datasets to fetch the MNIST Digits dataset as it provides a handy way to get and use the dataset. More information about pytorch datasets [here](https://pytorch.org/vision/stable/datasets.html)."
      ],
      "metadata": {
        "id": "zK94z-ilDh0l"
      }
    },
    {
      "cell_type": "code",
      "source": [
        "batch_sz=64 # this is batch size i.e. the number of rows in a batch of data\n",
        "\n",
        "train_dataset = MNIST(root='./datasets', train=True, download=True, transform = transforms.ToTensor())\n",
        "test_dataset = MNIST(root='./datasets', train=False, download=True, transform = transforms.ToTensor())\n",
        "\n",
        "train_loader = DataLoader(train_dataset, batch_size = batch_sz)\n",
        "test_loader = DataLoader(test_dataset, batch_size = batch_sz)"
      ],
      "metadata": {
        "colab": {
          "base_uri": "https://localhost:8080/"
        },
        "id": "8AQyKnqBbm9X",
        "outputId": "7165a7cb-a831-4ff2-f0aa-6d4719d9334a"
      },
      "execution_count": 2,
      "outputs": [
        {
          "output_type": "stream",
          "name": "stdout",
          "text": [
            "Downloading http://yann.lecun.com/exdb/mnist/train-images-idx3-ubyte.gz\n",
            "Downloading http://yann.lecun.com/exdb/mnist/train-images-idx3-ubyte.gz to ./datasets/MNIST/raw/train-images-idx3-ubyte.gz\n"
          ]
        },
        {
          "output_type": "stream",
          "name": "stderr",
          "text": [
            "100%|██████████| 9912422/9912422 [00:00<00:00, 102620350.06it/s]\n"
          ]
        },
        {
          "output_type": "stream",
          "name": "stdout",
          "text": [
            "Extracting ./datasets/MNIST/raw/train-images-idx3-ubyte.gz to ./datasets/MNIST/raw\n",
            "\n",
            "Downloading http://yann.lecun.com/exdb/mnist/train-labels-idx1-ubyte.gz\n",
            "Downloading http://yann.lecun.com/exdb/mnist/train-labels-idx1-ubyte.gz to ./datasets/MNIST/raw/train-labels-idx1-ubyte.gz\n"
          ]
        },
        {
          "output_type": "stream",
          "name": "stderr",
          "text": [
            "100%|██████████| 28881/28881 [00:00<00:00, 25173668.71it/s]\n"
          ]
        },
        {
          "output_type": "stream",
          "name": "stdout",
          "text": [
            "Extracting ./datasets/MNIST/raw/train-labels-idx1-ubyte.gz to ./datasets/MNIST/raw\n",
            "\n",
            "Downloading http://yann.lecun.com/exdb/mnist/t10k-images-idx3-ubyte.gz\n",
            "Downloading http://yann.lecun.com/exdb/mnist/t10k-images-idx3-ubyte.gz to ./datasets/MNIST/raw/t10k-images-idx3-ubyte.gz\n"
          ]
        },
        {
          "output_type": "stream",
          "name": "stderr",
          "text": [
            "100%|██████████| 1648877/1648877 [00:00<00:00, 27487644.66it/s]\n"
          ]
        },
        {
          "output_type": "stream",
          "name": "stdout",
          "text": [
            "Extracting ./datasets/MNIST/raw/t10k-images-idx3-ubyte.gz to ./datasets/MNIST/raw\n",
            "\n",
            "Downloading http://yann.lecun.com/exdb/mnist/t10k-labels-idx1-ubyte.gz\n",
            "Downloading http://yann.lecun.com/exdb/mnist/t10k-labels-idx1-ubyte.gz to ./datasets/MNIST/raw/t10k-labels-idx1-ubyte.gz\n"
          ]
        },
        {
          "output_type": "stream",
          "name": "stderr",
          "text": [
            "100%|██████████| 4542/4542 [00:00<00:00, 19127036.92it/s]\n"
          ]
        },
        {
          "output_type": "stream",
          "name": "stdout",
          "text": [
            "Extracting ./datasets/MNIST/raw/t10k-labels-idx1-ubyte.gz to ./datasets/MNIST/raw\n",
            "\n"
          ]
        }
      ]
    },
    {
      "cell_type": "code",
      "source": [
        "batch = next(iter(train_loader))\n",
        "batch[0].shape"
      ],
      "metadata": {
        "colab": {
          "base_uri": "https://localhost:8080/"
        },
        "id": "FQ9DoKj7b9oE",
        "outputId": "a1653669-995d-4051-cd0e-afc362c0972b"
      },
      "execution_count": 7,
      "outputs": [
        {
          "output_type": "execute_result",
          "data": {
            "text/plain": [
              "torch.Size([64, 1, 28, 28])"
            ]
          },
          "metadata": {},
          "execution_count": 7
        }
      ]
    },
    {
      "cell_type": "markdown",
      "source": [
        "## Convolutional Neural Networks"
      ],
      "metadata": {
        "id": "u65mV2e_2H_8"
      }
    },
    {
      "cell_type": "markdown",
      "source": [
        "Now, we will construct a Convolutional Neural Network. Convolutional neural networks are a type of neural networks which are typically applied to image data. They work by convolving a filter on an image. Filters act as weights of CNN and we learn these filters to extract useful information from an image. Filters are also sometimes called kernels.\n",
        "<br>\n",
        "\n",
        "We element-wise muliply a filter with a patch of input data and then sum the result.<br>\n",
        "$$z_{ij} = W \\star x_{ij} = \\sum^{m-1}_{a=0}\\sum^{m-1}_{b=0} W_{ab} \\: x_{(i+a)(j+b)}$$\n",
        "![convolution](https://upload.wikimedia.org/wikipedia/commons/1/19/2D_Convolution_Animation.gif) [source](https://commons.wikimedia.org/wiki/File:2D_Convolution_Animation.gif)\n",
        "\n",
        "<br>\n",
        "\n",
        "A convolutional layer in a CNN consists of a number applying a number of such filters to the input. The output of each of these filters is stacked in the form of multiple channels (just like we have 3 channesl in an RGB image). The filters then also become 3-dimensional.\n",
        "\n",
        "![2d conv](https://miro.medium.com/v2/resize:fit:1100/format:webp/1*oFVlkvZp848nh-QoD3pREw.png) [source](https://towardsdatascience.com/a-comprehensive-introduction-to-different-types-of-convolutions-in-deep-learning-669281e58215)"
      ],
      "metadata": {
        "id": "_nQ-MHGI2MuW"
      }
    },
    {
      "cell_type": "markdown",
      "source": [
        "### Stride"
      ],
      "metadata": {
        "id": "4ooJgob8AywM"
      }
    },
    {
      "cell_type": "markdown",
      "source": [
        "When we are dealing with convolution on images of very large size, its not always required to convolve over each and every pixel of an image. So we can set the subsequent convolutions to be shifted by more than one pixel in either the vertical or horizontal axis. This shift in subsequent convolutions is called the stride.\n",
        "\n",
        "![stride](https://miro.medium.com/v2/resize:fit:1400/1*BNLPHcNxLCgtwlJHnSs9oA.gif) [source](https://medium.com/swlh/convolutional-neural-networks-part-2-padding-and-strided-convolutions-c63c25026eaa)"
      ],
      "metadata": {
        "id": "dv8twKrxA1LI"
      }
    },
    {
      "cell_type": "markdown",
      "source": [
        "### Pooling"
      ],
      "metadata": {
        "id": "PT-HLosN9unN"
      }
    },
    {
      "cell_type": "markdown",
      "source": [
        "The pooling operation involves sliding a two-dimensional filter over each channel of feature map and summarising the features lying within the region covered by the filter. \n",
        "\n",
        "Pooling layers are used to reduce the dimensions of the feature maps and summarising the featre maps.\n",
        "\n",
        "Types of Pooling Layers:\n",
        "1.   Max Pooling: <br>\n",
        "Max pooling is a pooling operation that selects the maximum element from the region of the feature map covered by the filter. This is the most commonly used pooling layer.\n",
        "![Max Pooling](https://media.geeksforgeeks.org/wp-content/uploads/20190721025744/Screenshot-2019-07-21-at-2.57.13-AM.png) [source](https://www.geeksforgeeks.org/cnn-introduction-to-pooling-layer/)\n",
        "\n",
        "\n",
        "2.   Average Pooling: <br>\n",
        "Average pooling computes the average of the elements present in the region of feature map covered by the filter.\n",
        "![Avg Pooling](https://media.geeksforgeeks.org/wp-content/uploads/20190721030705/Screenshot-2019-07-21-at-3.05.56-AM.png) [source](https://www.geeksforgeeks.org/cnn-introduction-to-pooling-layer/)\n",
        "\n"
      ],
      "metadata": {
        "id": "spWnWvfo9w8a"
      }
    },
    {
      "cell_type": "markdown",
      "source": [
        "### Convolutional Neural Network\n",
        "A common CNN model architecture is to have a number of convolution and pooling layers stacked one after the other.\n",
        "![cnn](https://indiantechwarrior.com/wp-content/uploads/2021/04/LeNet-1024x393.png) [source](https://indiantechwarrior.com/convolutional-neural-network-architecture/)\n",
        "\n"
      ],
      "metadata": {
        "id": "cdzVnj6vC2Em"
      }
    },
    {
      "cell_type": "markdown",
      "source": [
        "We will use the categorical crossentropy loss here which is traditionally used for classification.\n",
        "\n",
        "$$\\mathcal{L} = \\frac{1}{N} \\sum^{N}_{i=1} \\left ( \\sum^{C}_{j=1} -y_{i,j}\\: log(\\hat{y}_{i,j}) \\right )$$\n",
        "\n",
        "where $y_i,j$ is the groundtruth, $\\hat{y}_{i,j}$ is the prediction, $C$ is the number classes and $N$ is the number of data samples."
      ],
      "metadata": {
        "id": "LXe05pWKDxgk"
      }
    },
    {
      "cell_type": "code",
      "source": [
        "#Q1: define a 2 layer simple NN for mnist digit classificaiton\n",
        "class NN (nn.Module):\n",
        "  def __init__(self):\n",
        "    super().__init__()\n",
        "    self.Linear1 =nn.Linear(28*28,100)\n",
        "    self.Linear2= nn.Linear(100,10)\n",
        "\n",
        "  def forward(self,x):\n",
        "    x = x.view(-1,28*28)\n",
        "    x = self.Linear1(x)\n",
        "    x = torch.relu(x)\n",
        "    x = self.Linear2(x)\n",
        "    return x"
      ],
      "metadata": {
        "id": "0__ql-1B6f-3"
      },
      "execution_count": 22,
      "outputs": []
    },
    {
      "cell_type": "code",
      "source": [
        "#Q2: Define a CNN with 2 conv layer and 2 linear layers for mnist digit classification\n",
        "\n",
        "class CNN(nn.Module):\n",
        "  def __init__(self):\n",
        "    super().__init__()\n",
        "    self.conv1 = nn.Conv2d(1, 15, 3, 1,1 )\n",
        "    self.conv2 = nn.Conv2d(15, 30, 3, 1,1 )\n",
        "    self.Linear1 =nn.Linear(30*7*7,100)\n",
        "    self.Linear2= nn.Linear(100,10)\n",
        "\n",
        "  def forward(self,x):\n",
        "    # 1, 28, 28 \n",
        "    x = self.conv1(x)\n",
        "    x = torch.relu(x)\n",
        "    # 15, 28, 28 \n",
        "    x= F.max_pool2d(x, (2,2))\n",
        "    intermidate = x\n",
        "    # 15, 14, 14 \n",
        "    x = self.conv2(x)\n",
        "    x = torch.relu(x)\n",
        "    # 30, 14, 14 \n",
        "    x= F.max_pool2d(x, (2,2))\n",
        "    # 30, 7, 7\n",
        "    x = x.view(-1,30*7*7)\n",
        "    x = self.Linear1(x)\n",
        "    x =torch.relu(x)\n",
        "    x = self.Linear2(x)\n",
        "    return x, intermidate\n"
      ],
      "metadata": {
        "id": "qPzVoKv26mqo"
      },
      "execution_count": 44,
      "outputs": []
    },
    {
      "cell_type": "code",
      "source": [
        "#Q3: Train both networks for 10 epochs and compare their performance \n",
        "import torch.optim as optim\n",
        "from torch.optim.lr_scheduler import ExponentialLR\n",
        "\n",
        "device = torch.device(\"cuda:0\")\n",
        "net = NN().to(device)\n",
        "\n",
        "num_epochs = 10\n",
        "lr = 0.1\n",
        "momentum = 0.5\n",
        "\n",
        "opt = optim.SGD(net.parameters(), lr = lr, momentum = momentum)\n",
        "sch = ExponentialLR(opt, 0.9, verbose = True)\n",
        "ls = []\n",
        "for i in range(num_epochs):\n",
        "  total_loss = 0\n",
        "  for batch in train_loader:\n",
        "    X,y = batch[0].to(device), batch[1].to(device)\n",
        "    yhat = net(X)\n",
        "    loss = F.cross_entropy(yhat, y)\n",
        "    opt.zero_grad()\n",
        "    loss.backward()\n",
        "    opt.step()\n",
        "    total_loss+=loss.item()\n",
        "  ls.append(total_loss/len(train_loader))\n",
        "  sch.step()\n",
        "plt.plot(ls)"
      ],
      "metadata": {
        "id": "4tF40n3B668b",
        "colab": {
          "base_uri": "https://localhost:8080/",
          "height": 644
        },
        "outputId": "350160e0-ac36-4944-fd29-3def4356a832"
      },
      "execution_count": 34,
      "outputs": [
        {
          "output_type": "stream",
          "name": "stdout",
          "text": [
            "Adjusting learning rate of group 0 to 1.0000e-01.\n",
            "Adjusting learning rate of group 0 to 9.0000e-02.\n",
            "Adjusting learning rate of group 0 to 8.1000e-02.\n",
            "Adjusting learning rate of group 0 to 7.2900e-02.\n",
            "Adjusting learning rate of group 0 to 6.5610e-02.\n",
            "Adjusting learning rate of group 0 to 5.9049e-02.\n",
            "Adjusting learning rate of group 0 to 5.3144e-02.\n",
            "Adjusting learning rate of group 0 to 4.7830e-02.\n",
            "Adjusting learning rate of group 0 to 4.3047e-02.\n",
            "Adjusting learning rate of group 0 to 3.8742e-02.\n",
            "Adjusting learning rate of group 0 to 3.4868e-02.\n"
          ]
        },
        {
          "output_type": "execute_result",
          "data": {
            "text/plain": [
              "[<matplotlib.lines.Line2D at 0x7fed7cca8d90>]"
            ]
          },
          "metadata": {},
          "execution_count": 34
        },
        {
          "output_type": "display_data",
          "data": {
            "text/plain": [
              "<Figure size 640x480 with 1 Axes>"
            ],
            "image/png": "[encoded data removed]"
          },
          "metadata": {}
        }
      ]
    },
    {
      "cell_type": "code",
      "source": [
        "#Q2: Define a CNN with 2 conv layer and 2 linear layers for mnist digit classification\n",
        "\n",
        "class CNN(nn.Module):\n",
        "  def __init__(self):\n",
        "    super().__init__()\n",
        "    #first input is the number of channel \n",
        "    #output channel \n",
        "    #filiter size\n",
        "    #stride\n",
        "    #padding\n",
        "    self.conv1 = nn.Conv2d(1, 15, 3, 1,1 )\n",
        "    self.conv2 = nn.Conv2d(15, 30, 3, 1,1 )\n",
        "    self.Linear1 =nn.Linear(30*7*7,100)\n",
        "    self.Linear2= nn.Linear(100,10)\n",
        "\n",
        "  def forward(self,x):\n",
        "    # 1 , 28, 28\n",
        "    x = self.conv1(x)\n",
        "    x =torch.relu(x)\n",
        "    # 15, 28, 28\n",
        "    x= F.max_pool2d(x, (2,2))\n",
        "    intermidate = x\n",
        "    # 15, 14,14 \n",
        "    x = self.conv2(x)\n",
        "    x =torch.relu(x)\n",
        "    # 30, 14,14 \n",
        "    x= F.max_pool2d(x, (2,2))\n",
        "    # 30, 7,7\n",
        "    x= x.view(-1, 30*7*7)\n",
        "    x= self.Linear1(x)\n",
        "    x =torch.relu(x)\n",
        "    x= self.Linear2(x)\n",
        "    return x,  intermidate\n",
        "\n",
        "net = CNN()\n",
        "lr =0.1 \n",
        "epoch = 2\n",
        "ls = []\n",
        "opt = optim.SGD(net.parameters(), lr=lr)\n",
        "for i in range(epoch):\n",
        "  total_loss= 0\n",
        "  for batch in train_loader :\n",
        "    x,y = batch[0],  batch[1]\n",
        "    yhat, intermidate = net(x)\n",
        "    loss = F.cross_entropy(yhat, y)\n",
        "    opt.zero_grad()\n",
        "    loss.backward()\n",
        "    opt.step()\n",
        "    total_loss += loss.item() \n",
        "  ls.append(total_loss/len(train_loader))\n"
      ],
      "metadata": {
        "id": "Vm0WHEepnayf"
      },
      "execution_count": 39,
      "outputs": []
    },
    {
      "cell_type": "code",
      "source": [
        "plt.plot(ls)"
      ],
      "metadata": {
        "colab": {
          "base_uri": "https://localhost:8080/",
          "height": 448
        },
        "id": "qxoRxC4Lnpby",
        "outputId": "643cb108-db2b-4085-dd7d-50c350bd9297"
      },
      "execution_count": 40,
      "outputs": [
        {
          "output_type": "execute_result",
          "data": {
            "text/plain": [
              "[<matplotlib.lines.Line2D at 0x7fed7cd8d240>]"
            ]
          },
          "metadata": {},
          "execution_count": 40
        },
        {
          "output_type": "display_data",
          "data": {
            "text/plain": [
              "<Figure size 640x480 with 1 Axes>"
            ],
            "image/png": "[encoded data removed]"
          },
          "metadata": {}
        }
      ]
    },
    {
      "cell_type": "code",
      "source": [
        "#Q2: Define a CNN with 2 conv layer and 2 linear layers for mnist digit classification\n",
        "\n",
        "class CNN(nn.Module):\n",
        "  def __init__(self):\n",
        "    super().__init__()\n",
        "    #first input is the number of channel \n",
        "    #output channel \n",
        "    #filiter size\n",
        "    #stride\n",
        "    #padding\n",
        "    self.conv1 = nn.Conv2d(1, 15, 3, 1,1 )\n",
        "    self.conv2 = nn.Conv2d(15, 30, 3, 1,1 )\n",
        "    self.Linear1 =nn.Linear(30*7*7,100)\n",
        "    self.Linear2= nn.Linear(100,10)\n",
        "\n",
        "  def forward(self,x):\n",
        "    # 1 , 28, 28\n",
        "    x = self.conv1(x)\n",
        "    x =torch.relu(x)\n",
        "    # 15, 28, 28\n",
        "    x= F.max_pool2d(x, (2,2))\n",
        "    intermidate = x\n",
        "    # 15, 14,14 \n",
        "    x = self.conv2(x)\n",
        "    x =torch.relu(x)\n",
        "    # 30, 14,14 \n",
        "    x= F.max_pool2d(x, (2,2))\n",
        "    # 30, 7,7\n",
        "    x= x.view(-1, 30*7*7)\n",
        "    x= self.Linear1(x)\n",
        "    x =torch.relu(x)\n",
        "    x= self.Linear2(x)\n",
        "    return x,  intermidate\n",
        "\n",
        "net = CNN().to(device)\n",
        "lr =0.1 \n",
        "epoch = 2\n",
        "ls = []\n",
        "momentum = 0.5\n",
        "opt = optim.SGD(net.parameters(), lr = lr, momentum = momentum)\n",
        "sch = ExponentialLR(opt, 0.9, verbose = True)\n",
        "for i in range(epoch):\n",
        "  total_loss= 0\n",
        "  for batch in train_loader :\n",
        "    x,y = batch[0].to(device),  batch[1].to(device)\n",
        "    yhat, intermidate = net(x)\n",
        "    loss = F.cross_entropy(yhat, y)\n",
        "    opt.zero_grad()\n",
        "    loss.backward()\n",
        "    opt.step()\n",
        "    total_loss += loss.item() \n",
        "  ls.append(total_loss/len(train_loader))\n",
        "  sch.step()\n",
        "plt.plot(ls)\n"
      ],
      "metadata": {
        "colab": {
          "base_uri": "https://localhost:8080/",
          "height": 501
        },
        "id": "GeVTLlDVlDUh",
        "outputId": "ce5e7ace-7e8a-4728-d135-b26e592148cf"
      },
      "execution_count": 48,
      "outputs": [
        {
          "output_type": "stream",
          "name": "stdout",
          "text": [
            "Adjusting learning rate of group 0 to 1.0000e-01.\n",
            "Adjusting learning rate of group 0 to 9.0000e-02.\n",
            "Adjusting learning rate of group 0 to 8.1000e-02.\n"
          ]
        },
        {
          "output_type": "execute_result",
          "data": {
            "text/plain": [
              "[<matplotlib.lines.Line2D at 0x7fed7c4157b0>]"
            ]
          },
          "metadata": {},
          "execution_count": 48
        },
        {
          "output_type": "display_data",
          "data": {
            "text/plain": [
              "<Figure size 640x480 with 1 Axes>"
            ],
            "image/png": "[encoded data removed]"
          },
          "metadata": {}
        }
      ]
    },
    {
      "cell_type": "code",
      "source": [
        "#Q4: Compare the accuarcay of both networks on the test set\n",
        "total_correct = 0\n",
        "total_example=0\n",
        "for batch in test_loader :\n",
        "  x,y = batch[0],  batch[1]\n",
        "  yhat = net(x)[0]\n",
        "  predicted = torch.argmax(yhat, axis = 1)\n",
        "  correct_prediction= (predicted == y).sum().item()\n",
        "  total_example += y.size(0)\n",
        "  total_correct += correct_prediction\n",
        "accuracy = total_correct/ total_example\n",
        "print(f\"Accuracy on the test set: {accuracy:.2%}\")"
      ],
      "metadata": {
        "id": "x0AauPBu7mQT",
        "colab": {
          "base_uri": "https://localhost:8080/"
        },
        "outputId": "21b9c547-87df-4770-a45e-a2b735628982"
      },
      "execution_count": 51,
      "outputs": [
        {
          "output_type": "stream",
          "name": "stdout",
          "text": [
            "Accuracy on the test set: 98.47%\n"
          ]
        }
      ]
    },
    {
      "cell_type": "code",
      "source": [
        "#Q4: Compare the accuarcay of both networks on the test set\n",
        "total_correct = 0\n",
        "total_example=0\n",
        "for batch in test_loader :\n",
        "  x,y = batch[0].to(device),  batch[1].to(device)\n",
        "  yhat = net(x)\n",
        "  predicted = torch.argmax(yhat, axis = 1)\n",
        "  correct_prediction= (predicted == y).sum().item()\n",
        "  total_example += y.size(0)\n",
        "  total_correct += correct_prediction\n",
        "accuracy = total_correct/ total_example\n",
        "print(f\"Accuracy on the test set: {accuracy:.2%}\")"
      ],
      "metadata": {
        "colab": {
          "base_uri": "https://localhost:8080/"
        },
        "id": "KP4f6fatlv1R",
        "outputId": "df10117a-8b70-4426-d39b-c70858eb28ef"
      },
      "execution_count": 36,
      "outputs": [
        {
          "output_type": "stream",
          "name": "stdout",
          "text": [
            "Accuracy on the test set: 97.62%\n"
          ]
        }
      ]
    },
    {
      "cell_type": "code",
      "source": [
        "#Q5: go through the testset and plot some samples of incorrect results\n",
        "\n",
        "# Create a list to store the incorrect samples\n",
        "incorrect_samples = []\n",
        "\n",
        "for batch in test_loader:\n",
        "    inputs, labels = batch[0], batch[1]\n",
        "    outputs = net(inputs)[0]\n",
        "    predicted = torch.argmax(outputs, axis = 1)\n",
        "    incorrect_mask = predicted != labels # one if they incorrect \n",
        "    incorrect_indices = torch.nonzero(incorrect_mask) #\n",
        "  \n",
        "    for index in incorrect_indices:\n",
        "        input_img = inputs[index].numpy()\n",
        "        true_label = labels[index].item()\n",
        "        predicted_label = predicted[index].item()\n",
        "        incorrect_samples.append((input_img, true_label, predicted_label))\n",
        "# Plot some samples of incorrect predictions\n",
        "num_samples = min(10, len(incorrect_samples))\n",
        "fig, axes = plt.subplots(1, num_samples, figsize=(30, 3))\n",
        "\n",
        "for i in range(num_samples):\n",
        "    input_img, true_label, predicted_label = incorrect_samples[i]\n",
        "    axes[i].imshow(input_img.reshape(28, 28), cmap='gray')\n",
        "    axes[i].set_title(f\"True: {true_label}, Predicted: {predicted_label}\")\n",
        "    axes[i].axis('off')\n",
        "plt.tight_layout()\n",
        "plt.show()"
      ],
      "metadata": {
        "id": "_-cN-QfD7uoC",
        "colab": {
          "base_uri": "https://localhost:8080/",
          "height": 153
        },
        "outputId": "463b55c1-6467-4752-817e-b24c307fb6f9"
      },
      "execution_count": 53,
      "outputs": [
        {
          "output_type": "display_data",
          "data": {
            "text/plain": [
              "<Figure size 3000x300 with 10 Axes>"
            ],
            "image/png": "[encoded data removed]"
          },
          "metadata": {}
        }
      ]
    },
    {
      "cell_type": "code",
      "source": [
        "#Q6: show the output of the intermediate layers\n",
        "batch = next(iter(test_loader))\n",
        "X = batch[0]\n",
        "with torch.no_grad():\n",
        "  Yhat, X1 = net(X)\n",
        "\n",
        "n = 0\n",
        "plt.figure(figsize=(16,12))\n",
        "for i in range(X1.shape[1]):\n",
        "  plt.subplot(4,5,i+1)\n",
        "  plt.imshow(X1.cpu()[n,i,:,:])\n",
        "  plt.axis(\"off\")"
      ],
      "metadata": {
        "id": "38vMW-mI72cE",
        "colab": {
          "base_uri": "https://localhost:8080/",
          "height": 719
        },
        "outputId": "e4a1d12b-0d45-4b7a-b2bc-20f446d2beaf"
      },
      "execution_count": 60,
      "outputs": [
        {
          "output_type": "display_data",
          "data": {
            "text/plain": [
              "<Figure size 1600x1200 with 15 Axes>"
            ],
            "image/png": "[encoded data removed]"
          },
          "metadata": {}
        }
      ]
    },
    {
      "cell_type": "code",
      "source": [
        "plt.figure(figsize=(10, 4))\n",
        "for i in range(X1.shape[1]):\n",
        "    plt.subplot(3, 10, i + 1)\n",
        "    feature_map = X1[0, i, :, :].detach().cpu().numpy()\n",
        "    plt.imshow(feature_map)\n",
        "    plt.axis('off')\n",
        "\n",
        "plt.tight_layout()\n",
        "plt.show()"
      ],
      "metadata": {
        "colab": {
          "base_uri": "https://localhost:8080/",
          "height": 248
        },
        "id": "6qKigTjuqmip",
        "outputId": "914bab72-86ff-4d92-af5f-41c6b2cabb85"
      },
      "execution_count": 62,
      "outputs": [
        {
          "output_type": "display_data",
          "data": {
            "text/plain": [
              "<Figure size 1000x400 with 15 Axes>"
            ],
            "image/png": "[encoded data removed]"
          },
          "metadata": {}
        }
      ]
    },
    {
      "cell_type": "code",
      "source": [
        "#Q7: Compare the time of training on CPU and GPU\n",
        "Q7: Compare the time of training on CPU and GPU\n",
        "import time \n",
        "# Define the device (CPU or GPU)\n",
        "device_cpu = torch.device(\"cpu\")\n",
        "device_gpu = torch.device(\"cuda\" if torch.cuda.is_available() else \"cpu\")\n",
        "\n",
        "# Create an instance of the model\n",
        "model = CNN()\n",
        "\n",
        "# Move the model to the desired device\n",
        "model.to(device_gpu)\n",
        "\n",
        "# Define the loss function and optimizer\n",
        "criterion = nn.CrossEntropyLoss()\n",
        "optimizer = optim.SGD(model.parameters(), lr=0.01)\n",
        "\n",
        "# Set the number of epochs\n",
        "num_epochs = 10\n",
        "\n",
        "# Training on CPU\n",
        "start_time_cpu = time.time()\n",
        "\n",
        "model.to(device_cpu)\n",
        "for epoch in range(num_epochs):\n",
        "  total_loss= 0\n",
        "  for batch in train_loader :\n",
        "    x,y = batch[0],  batch[1]\n",
        "    yhat, intermidate = net(x)\n",
        "    loss = F.cross_entropy(yhat, y)\n",
        "    opt.zero_grad()\n",
        "    loss.backward()\n",
        "    opt.step()\n",
        "    total_loss += loss.item() \n",
        "  ls.append(total_loss/len(train_loader))\n",
        "    \n",
        "\n",
        "end_time_cpu = time.time()\n",
        "training_time_cpu = end_time_cpu - start_time_cpu\n",
        "\n",
        "# Training on GPU\n",
        "start_time_gpu = time.time()\n",
        "\n",
        "for epoch in range(num_epochs):\n",
        "  total_loss= 0\n",
        "  for batch in train_loader :\n",
        "    x,y = batch[0],  batch[1]\n",
        "    yhat, intermidate = net(x)\n",
        "    loss = F.cross_entropy(yhat, y)\n",
        "    opt.zero_grad()\n",
        "    loss.backward()\n",
        "    opt.step()\n",
        "    total_loss += loss.item() \n",
        "  ls.append(total_loss/len(train_loader))\n",
        "\n",
        "end_time_gpu = time.time()\n",
        "training_time_gpu = end_time_gpu - start_time_gpu\n",
        "\n",
        "# Print the training time for CPU and GPU\n",
        "print(f\"Training time on CPU: {training_time_cpu:.2f} seconds\")\n",
        "print(f\"Training time on GPU: {training_time_gpu:.2f} seconds\")"
      ],
      "metadata": {
        "id": "PGRQUcd0i22U"
      },
      "execution_count": null,
      "outputs": []
    }
  ]
}